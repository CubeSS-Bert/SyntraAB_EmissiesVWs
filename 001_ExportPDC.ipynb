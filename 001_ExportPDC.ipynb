{
 "cells": [
  {
   "cell_type": "code",
   "execution_count": 1,
   "id": "3d06fedb",
   "metadata": {},
   "outputs": [],
   "source": [
    "import numpy as np\n",
    "import pandas as pd\n",
    "import matplotlib as mpl\n",
    "import matplotlib.pyplot as plt"
   ]
  },
  {
   "cell_type": "markdown",
   "id": "315653e0",
   "metadata": {},
   "source": [
    "# Beoordeling van de data\n",
    "1. RAW-data dataframe aanmaken  \n",
    "1. Eventueel inladen in xls-sheet"
   ]
  },
  {
   "cell_type": "code",
   "execution_count": 4,
   "id": "a1652e54",
   "metadata": {},
   "outputs": [
    {
     "ename": "ParserError",
     "evalue": "Error tokenizing data. C error: Expected 2 fields in line 3, saw 3\n",
     "output_type": "error",
     "traceback": [
      "\u001b[1;31m---------------------------------------------------------------------------\u001b[0m",
      "\u001b[1;31mParserError\u001b[0m                               Traceback (most recent call last)",
      "Cell \u001b[1;32mIn[4], line 2\u001b[0m\n\u001b[0;32m      1\u001b[0m \u001b[38;5;66;03m# Read the text file into a DataFrame\u001b[39;00m\n\u001b[1;32m----> 2\u001b[0m data_RAW \u001b[38;5;241m=\u001b[39m \u001b[43mpd\u001b[49m\u001b[38;5;241;43m.\u001b[39;49m\u001b[43mread_csv\u001b[49m\u001b[43m(\u001b[49m\u001b[38;5;124;43m'\u001b[39;49m\u001b[38;5;124;43mData/VW3_20250122_28_Compleet.txt\u001b[39;49m\u001b[38;5;124;43m'\u001b[39;49m\u001b[43m,\u001b[49m\u001b[43m \u001b[49m\u001b[43mdelimiter\u001b[49m\u001b[38;5;241;43m=\u001b[39;49m\u001b[38;5;124;43m'\u001b[39;49m\u001b[38;5;130;43;01m\\t\u001b[39;49;00m\u001b[38;5;124;43m'\u001b[39;49m\u001b[43m)\u001b[49m\n\u001b[0;32m      3\u001b[0m \u001b[38;5;66;03m# Display the DataFrame\u001b[39;00m\n\u001b[0;32m      4\u001b[0m \u001b[38;5;28mprint\u001b[39m(data_RAW\u001b[38;5;241m.\u001b[39mhead())\n",
      "File \u001b[1;32mc:\\Python311\\Lib\\site-packages\\pandas\\io\\parsers\\readers.py:948\u001b[0m, in \u001b[0;36mread_csv\u001b[1;34m(filepath_or_buffer, sep, delimiter, header, names, index_col, usecols, dtype, engine, converters, true_values, false_values, skipinitialspace, skiprows, skipfooter, nrows, na_values, keep_default_na, na_filter, verbose, skip_blank_lines, parse_dates, infer_datetime_format, keep_date_col, date_parser, date_format, dayfirst, cache_dates, iterator, chunksize, compression, thousands, decimal, lineterminator, quotechar, quoting, doublequote, escapechar, comment, encoding, encoding_errors, dialect, on_bad_lines, delim_whitespace, low_memory, memory_map, float_precision, storage_options, dtype_backend)\u001b[0m\n\u001b[0;32m    935\u001b[0m kwds_defaults \u001b[38;5;241m=\u001b[39m _refine_defaults_read(\n\u001b[0;32m    936\u001b[0m     dialect,\n\u001b[0;32m    937\u001b[0m     delimiter,\n\u001b[1;32m   (...)\u001b[0m\n\u001b[0;32m    944\u001b[0m     dtype_backend\u001b[38;5;241m=\u001b[39mdtype_backend,\n\u001b[0;32m    945\u001b[0m )\n\u001b[0;32m    946\u001b[0m kwds\u001b[38;5;241m.\u001b[39mupdate(kwds_defaults)\n\u001b[1;32m--> 948\u001b[0m \u001b[38;5;28;01mreturn\u001b[39;00m \u001b[43m_read\u001b[49m\u001b[43m(\u001b[49m\u001b[43mfilepath_or_buffer\u001b[49m\u001b[43m,\u001b[49m\u001b[43m \u001b[49m\u001b[43mkwds\u001b[49m\u001b[43m)\u001b[49m\n",
      "File \u001b[1;32mc:\\Python311\\Lib\\site-packages\\pandas\\io\\parsers\\readers.py:617\u001b[0m, in \u001b[0;36m_read\u001b[1;34m(filepath_or_buffer, kwds)\u001b[0m\n\u001b[0;32m    614\u001b[0m     \u001b[38;5;28;01mreturn\u001b[39;00m parser\n\u001b[0;32m    616\u001b[0m \u001b[38;5;28;01mwith\u001b[39;00m parser:\n\u001b[1;32m--> 617\u001b[0m     \u001b[38;5;28;01mreturn\u001b[39;00m \u001b[43mparser\u001b[49m\u001b[38;5;241;43m.\u001b[39;49m\u001b[43mread\u001b[49m\u001b[43m(\u001b[49m\u001b[43mnrows\u001b[49m\u001b[43m)\u001b[49m\n",
      "File \u001b[1;32mc:\\Python311\\Lib\\site-packages\\pandas\\io\\parsers\\readers.py:1748\u001b[0m, in \u001b[0;36mTextFileReader.read\u001b[1;34m(self, nrows)\u001b[0m\n\u001b[0;32m   1741\u001b[0m nrows \u001b[38;5;241m=\u001b[39m validate_integer(\u001b[38;5;124m\"\u001b[39m\u001b[38;5;124mnrows\u001b[39m\u001b[38;5;124m\"\u001b[39m, nrows)\n\u001b[0;32m   1742\u001b[0m \u001b[38;5;28;01mtry\u001b[39;00m:\n\u001b[0;32m   1743\u001b[0m     \u001b[38;5;66;03m# error: \"ParserBase\" has no attribute \"read\"\u001b[39;00m\n\u001b[0;32m   1744\u001b[0m     (\n\u001b[0;32m   1745\u001b[0m         index,\n\u001b[0;32m   1746\u001b[0m         columns,\n\u001b[0;32m   1747\u001b[0m         col_dict,\n\u001b[1;32m-> 1748\u001b[0m     ) \u001b[38;5;241m=\u001b[39m \u001b[38;5;28;43mself\u001b[39;49m\u001b[38;5;241;43m.\u001b[39;49m\u001b[43m_engine\u001b[49m\u001b[38;5;241;43m.\u001b[39;49m\u001b[43mread\u001b[49m\u001b[43m(\u001b[49m\u001b[43m  \u001b[49m\u001b[38;5;66;43;03m# type: ignore[attr-defined]\u001b[39;49;00m\n\u001b[0;32m   1749\u001b[0m \u001b[43m        \u001b[49m\u001b[43mnrows\u001b[49m\n\u001b[0;32m   1750\u001b[0m \u001b[43m    \u001b[49m\u001b[43m)\u001b[49m\n\u001b[0;32m   1751\u001b[0m \u001b[38;5;28;01mexcept\u001b[39;00m \u001b[38;5;167;01mException\u001b[39;00m:\n\u001b[0;32m   1752\u001b[0m     \u001b[38;5;28mself\u001b[39m\u001b[38;5;241m.\u001b[39mclose()\n",
      "File \u001b[1;32mc:\\Python311\\Lib\\site-packages\\pandas\\io\\parsers\\c_parser_wrapper.py:234\u001b[0m, in \u001b[0;36mCParserWrapper.read\u001b[1;34m(self, nrows)\u001b[0m\n\u001b[0;32m    232\u001b[0m \u001b[38;5;28;01mtry\u001b[39;00m:\n\u001b[0;32m    233\u001b[0m     \u001b[38;5;28;01mif\u001b[39;00m \u001b[38;5;28mself\u001b[39m\u001b[38;5;241m.\u001b[39mlow_memory:\n\u001b[1;32m--> 234\u001b[0m         chunks \u001b[38;5;241m=\u001b[39m \u001b[38;5;28;43mself\u001b[39;49m\u001b[38;5;241;43m.\u001b[39;49m\u001b[43m_reader\u001b[49m\u001b[38;5;241;43m.\u001b[39;49m\u001b[43mread_low_memory\u001b[49m\u001b[43m(\u001b[49m\u001b[43mnrows\u001b[49m\u001b[43m)\u001b[49m\n\u001b[0;32m    235\u001b[0m         \u001b[38;5;66;03m# destructive to chunks\u001b[39;00m\n\u001b[0;32m    236\u001b[0m         data \u001b[38;5;241m=\u001b[39m _concatenate_chunks(chunks)\n",
      "File \u001b[1;32mparsers.pyx:843\u001b[0m, in \u001b[0;36mpandas._libs.parsers.TextReader.read_low_memory\u001b[1;34m()\u001b[0m\n",
      "File \u001b[1;32mparsers.pyx:904\u001b[0m, in \u001b[0;36mpandas._libs.parsers.TextReader._read_rows\u001b[1;34m()\u001b[0m\n",
      "File \u001b[1;32mparsers.pyx:879\u001b[0m, in \u001b[0;36mpandas._libs.parsers.TextReader._tokenize_rows\u001b[1;34m()\u001b[0m\n",
      "File \u001b[1;32mparsers.pyx:890\u001b[0m, in \u001b[0;36mpandas._libs.parsers.TextReader._check_tokenize_status\u001b[1;34m()\u001b[0m\n",
      "File \u001b[1;32mparsers.pyx:2058\u001b[0m, in \u001b[0;36mpandas._libs.parsers.raise_parser_error\u001b[1;34m()\u001b[0m\n",
      "\u001b[1;31mParserError\u001b[0m: Error tokenizing data. C error: Expected 2 fields in line 3, saw 3\n"
     ]
    }
   ],
   "source": [
    "# Read the text file into a DataFrame\n",
    "data_RAW = pd.read_csv('Data/VW3_20250122_28_Compleet.txt', delimiter='\\t')\n",
    "# Display the DataFrame\n",
    "print(data_RAW.head())"
   ]
  },
  {
   "cell_type": "code",
   "execution_count": 5,
   "id": "3b4c5a77",
   "metadata": {},
   "outputs": [
    {
     "name": "stdout",
     "output_type": "stream",
     "text": [
      "{'Vulwagen_3_Local_4_I_PresentValue_0_': [['23/01/2025 12:00:29.448', '73211', 'True'], ['23/01/2025 12:00:29.948', '73211', 'True'], ['23/01/2025 12:00:30.448', '73211', 'True'], ['23/01/2025 12:00:30.948', '73211', 'True'], ['23/01/2025 12:00:31.448', '73211', 'True'], ['23/01/2025 12:00:31.948', '73211', 'True'], ['23/01/2025 12:00:32.448', '73211', 'True'], ['23/01/2025 12:00:32.948', '73211', 'True'], ['23/01/2025 12:00:33.448', '73211', 'True'], ['23/01/2025 12:00:33.948', '73211', 'True']], 'Vulwagen_3_Plaats_VW3': [['23/01/2025 12:00:28.573', '201', 'True'], ['23/01/2025 12:00:29.470', '200', 'True'], ['23/01/2025 12:00:30.543', '199', 'True'], ['23/01/2025 12:00:31.774', '198', 'True'], ['23/01/2025 12:00:33.516', '197', 'True'], ['23/01/2025 12:00:36.030', '196', 'True'], ['23/01/2025 12:00:42.581', '195', 'True'], ['23/01/2025 12:00:48.561', '194', 'True'], ['23/01/2025 12:02:56.841', '193', 'True'], ['23/01/2025 12:02:58.907', '192', 'True']], 'Vulwagen_3_X02_A302_172_20_1_108_11_I_Ch2Data': [['23/01/2025 12:00:29.448', '4,65980052947998', 'True'], ['23/01/2025 12:00:29.948', '4,65980052947998', 'True'], ['23/01/2025 12:00:30.448', '4,66011428833008', 'True'], ['23/01/2025 12:00:30.948', '4,65980052947998', 'True'], ['23/01/2025 12:00:31.448', '4,65980052947998', 'True'], ['23/01/2025 12:00:31.948', '4,65980052947998', 'True'], ['23/01/2025 12:00:32.448', '4,65948629379272', 'True'], ['23/01/2025 12:00:32.948', '4,65948629379272', 'True'], ['23/01/2025 12:00:33.448', '4,65980052947998', 'True'], ['23/01/2025 12:00:33.948', '4,65980052947998', 'True']]}\n"
     ]
    }
   ],
   "source": [
    "# Initialize a dictionary to store data for each signal\n",
    "signals_data = {}\n",
    "\n",
    "# Read the file line by line\n",
    "# with open('Data/VW3_20250122_28_Compleet.txt', 'r') as file:\n",
    "with open('Data/VW_Test.txt', 'r') as file:\n",
    "# with open('Data/VW3_20250123_Vijzel1.txt', 'r') as file:\n",
    " lines = file.readlines()\n",
    "\n",
    "# Variables to keep track of the current signal\n",
    "current_signal = None\n",
    "\n",
    "# Process each line\n",
    "for line in lines:\n",
    " if line.startswith(\"SignalInfo\\t\"):\n",
    "  current_signal = line.strip().split('\\t')[1]\n",
    "  signals_data[current_signal] = []\n",
    " elif current_signal:\n",
    "  if line.startswith(\"SignalInfo\"):\n",
    "   break\n",
    "  signals_data[current_signal].append(line.strip().split('\\t'))\n",
    "\n",
    "print(signals_data)\n",
    "\n",
    "# Create a DataFrame with timestamp as index and a column for each signal\n",
    "# df = pd.DataFrame()\n",
    "\n",
    "# for signal, data in signals_data.items():\n",
    "#  signal_df = pd.DataFrame(data, columns=[\"Timestamp\", \"Value\", \"Status\"])\n",
    "#  # signal_df.set_index(\"Timestamp\", inplace=True)\n",
    "#  df[signal] = signal_df[\"Value\"]\n",
    "\n",
    "# # Display the DataFrame\n",
    "# print(df.head())"
   ]
  },
  {
   "cell_type": "code",
   "execution_count": 6,
   "id": "20d26f16",
   "metadata": {},
   "outputs": [
    {
     "data": {
      "text/html": [
       "<div>\n",
       "<style scoped>\n",
       "    .dataframe tbody tr th:only-of-type {\n",
       "        vertical-align: middle;\n",
       "    }\n",
       "\n",
       "    .dataframe tbody tr th {\n",
       "        vertical-align: top;\n",
       "    }\n",
       "\n",
       "    .dataframe thead th {\n",
       "        text-align: right;\n",
       "    }\n",
       "</style>\n",
       "<table border=\"1\" class=\"dataframe\">\n",
       "  <thead>\n",
       "    <tr style=\"text-align: right;\">\n",
       "      <th></th>\n",
       "      <th>Vulwagen_3_Local_4_I_PresentValue_0_</th>\n",
       "      <th>Vulwagen_3_Plaats_VW3</th>\n",
       "      <th>Vulwagen_3_X02_A302_172_20_1_108_11_I_Ch2Data</th>\n",
       "    </tr>\n",
       "  </thead>\n",
       "  <tbody>\n",
       "    <tr>\n",
       "      <th>2025-01-23 12:00:28.573</th>\n",
       "      <td>NaN</td>\n",
       "      <td>201</td>\n",
       "      <td>NaN</td>\n",
       "    </tr>\n",
       "    <tr>\n",
       "      <th>2025-01-23 12:00:29.448</th>\n",
       "      <td>73211</td>\n",
       "      <td>NaN</td>\n",
       "      <td>4,65980052947998</td>\n",
       "    </tr>\n",
       "    <tr>\n",
       "      <th>2025-01-23 12:00:29.470</th>\n",
       "      <td>NaN</td>\n",
       "      <td>200</td>\n",
       "      <td>NaN</td>\n",
       "    </tr>\n",
       "    <tr>\n",
       "      <th>2025-01-23 12:00:29.948</th>\n",
       "      <td>73211</td>\n",
       "      <td>NaN</td>\n",
       "      <td>4,65980052947998</td>\n",
       "    </tr>\n",
       "    <tr>\n",
       "      <th>2025-01-23 12:00:30.448</th>\n",
       "      <td>73211</td>\n",
       "      <td>NaN</td>\n",
       "      <td>4,66011428833008</td>\n",
       "    </tr>\n",
       "  </tbody>\n",
       "</table>\n",
       "</div>"
      ],
      "text/plain": [
       "                        Vulwagen_3_Local_4_I_PresentValue_0_  \\\n",
       "2025-01-23 12:00:28.573                                  NaN   \n",
       "2025-01-23 12:00:29.448                                73211   \n",
       "2025-01-23 12:00:29.470                                  NaN   \n",
       "2025-01-23 12:00:29.948                                73211   \n",
       "2025-01-23 12:00:30.448                                73211   \n",
       "\n",
       "                        Vulwagen_3_Plaats_VW3  \\\n",
       "2025-01-23 12:00:28.573                   201   \n",
       "2025-01-23 12:00:29.448                   NaN   \n",
       "2025-01-23 12:00:29.470                   200   \n",
       "2025-01-23 12:00:29.948                   NaN   \n",
       "2025-01-23 12:00:30.448                   NaN   \n",
       "\n",
       "                        Vulwagen_3_X02_A302_172_20_1_108_11_I_Ch2Data  \n",
       "2025-01-23 12:00:28.573                                           NaN  \n",
       "2025-01-23 12:00:29.448                              4,65980052947998  \n",
       "2025-01-23 12:00:29.470                                           NaN  \n",
       "2025-01-23 12:00:29.948                              4,65980052947998  \n",
       "2025-01-23 12:00:30.448                              4,66011428833008  "
      ]
     },
     "execution_count": 6,
     "metadata": {},
     "output_type": "execute_result"
    }
   ],
   "source": [
    "# Create a DataFrame with timestamp as index and a column for each signal\n",
    "df = pd.DataFrame()\n",
    "\n",
    "# Itereer over elke key in de dictionary\n",
    "## Haal de datums en waarden op\n",
    "## Maak een tijdelijke dataframe met datums als index en waarden als kolom\n",
    "## Voeg de tijdelijke dataframe samen met de hoofd dataframe\n",
    " \n",
    "for key in signals_data.keys():\n",
    " timestamp = [item[0] for item in signals_data[key]]\n",
    " value = [item[1] for item in signals_data[key]]\n",
    " status = [item[2] for item in signals_data[key]]\n",
    " \n",
    " temp_df = pd.DataFrame(value, index=pd.to_datetime(timestamp, dayfirst=True), columns=[key])\n",
    " df = pd.merge(df, temp_df, left_index=True, right_index=True, how='outer')\n",
    "\n",
    "# print(df.head())\n",
    "\n",
    "# Sorteer de dataframe op index (datums)\n",
    "df.sort_index(inplace=True)\n",
    "\n",
    "# Print de resulterende dataframe\n",
    "df.head()\n",
    "# df.info()\n",
    "# df.columns\n",
    "# df.index"
   ]
  }
 ],
 "metadata": {
  "kernelspec": {
   "display_name": "Python 3",
   "language": "python",
   "name": "python3"
  },
  "language_info": {
   "codemirror_mode": {
    "name": "ipython",
    "version": 3
   },
   "file_extension": ".py",
   "mimetype": "text/x-python",
   "name": "python",
   "nbconvert_exporter": "python",
   "pygments_lexer": "ipython3",
   "version": "3.11.3"
  }
 },
 "nbformat": 4,
 "nbformat_minor": 5
}
